{
 "cells": [
  {
   "cell_type": "markdown",
   "metadata": {},
   "source": [
    "# ロジステック回帰分析でアヤメ(iris)を分類してみました #"
   ]
  },
  {
   "cell_type": "markdown",
   "metadata": {},
   "source": [
    "## この記事の目的 ##\n",
    "scikit-learnによる機械学習の基本的な流れを忘れない様にまとめてみました。この記事では、機械学習の例題用データとして有名なirisのデータを使って分類問題を解いてみました。この記事で基本的な分類問題を解く機械学習の流れがわかると思います。"
   ]
  },
  {
   "cell_type": "markdown",
   "metadata": {},
   "source": [
    "## 分類の流れ ##\n",
    "1. データの読み込み\n",
    "2. データ前処理(データ分割、標準化)\n",
    "3. 主成分分析による特徴量の選択\n",
    "4. ロジスティック回帰モデルの学習(グリッドサーチによるハイパーパラメータの調整)\n",
    "5. モデルの評価"
   ]
  },
  {
   "cell_type": "markdown",
   "metadata": {},
   "source": [
    "# 1. データ読み込み #\n",
    "scikit-learnに用意されているirisのデータを読み込んでpandasのデータフレームに変換します。pandasのデータフレームに変換することでpandasで用意されている関数をデータに適用できるので便利です。試しに読み込んだデータの統計量を表示する関数を実行しています。"
   ]
  },
  {
   "cell_type": "code",
   "execution_count": 1,
   "metadata": {},
   "outputs": [
    {
     "data": {
      "text/html": [
       "<div>\n",
       "<style scoped>\n",
       "    .dataframe tbody tr th:only-of-type {\n",
       "        vertical-align: middle;\n",
       "    }\n",
       "\n",
       "    .dataframe tbody tr th {\n",
       "        vertical-align: top;\n",
       "    }\n",
       "\n",
       "    .dataframe thead th {\n",
       "        text-align: right;\n",
       "    }\n",
       "</style>\n",
       "<table border=\"1\" class=\"dataframe\">\n",
       "  <thead>\n",
       "    <tr style=\"text-align: right;\">\n",
       "      <th></th>\n",
       "      <th>sepal length (cm)</th>\n",
       "      <th>sepal width (cm)</th>\n",
       "      <th>petal length (cm)</th>\n",
       "      <th>petal width (cm)</th>\n",
       "      <th>target</th>\n",
       "    </tr>\n",
       "  </thead>\n",
       "  <tbody>\n",
       "    <tr>\n",
       "      <th>0</th>\n",
       "      <td>5.1</td>\n",
       "      <td>3.5</td>\n",
       "      <td>1.4</td>\n",
       "      <td>0.2</td>\n",
       "      <td>0</td>\n",
       "    </tr>\n",
       "    <tr>\n",
       "      <th>1</th>\n",
       "      <td>4.9</td>\n",
       "      <td>3.0</td>\n",
       "      <td>1.4</td>\n",
       "      <td>0.2</td>\n",
       "      <td>0</td>\n",
       "    </tr>\n",
       "    <tr>\n",
       "      <th>2</th>\n",
       "      <td>4.7</td>\n",
       "      <td>3.2</td>\n",
       "      <td>1.3</td>\n",
       "      <td>0.2</td>\n",
       "      <td>0</td>\n",
       "    </tr>\n",
       "    <tr>\n",
       "      <th>3</th>\n",
       "      <td>4.6</td>\n",
       "      <td>3.1</td>\n",
       "      <td>1.5</td>\n",
       "      <td>0.2</td>\n",
       "      <td>0</td>\n",
       "    </tr>\n",
       "    <tr>\n",
       "      <th>4</th>\n",
       "      <td>5.0</td>\n",
       "      <td>3.6</td>\n",
       "      <td>1.4</td>\n",
       "      <td>0.2</td>\n",
       "      <td>0</td>\n",
       "    </tr>\n",
       "  </tbody>\n",
       "</table>\n",
       "</div>"
      ],
      "text/plain": [
       "   sepal length (cm)  sepal width (cm)  petal length (cm)  petal width (cm)  \\\n",
       "0                5.1               3.5                1.4               0.2   \n",
       "1                4.9               3.0                1.4               0.2   \n",
       "2                4.7               3.2                1.3               0.2   \n",
       "3                4.6               3.1                1.5               0.2   \n",
       "4                5.0               3.6                1.4               0.2   \n",
       "\n",
       "   target  \n",
       "0       0  \n",
       "1       0  \n",
       "2       0  \n",
       "3       0  \n",
       "4       0  "
      ]
     },
     "metadata": {},
     "output_type": "display_data"
    },
    {
     "data": {
      "text/html": [
       "<div>\n",
       "<style scoped>\n",
       "    .dataframe tbody tr th:only-of-type {\n",
       "        vertical-align: middle;\n",
       "    }\n",
       "\n",
       "    .dataframe tbody tr th {\n",
       "        vertical-align: top;\n",
       "    }\n",
       "\n",
       "    .dataframe thead th {\n",
       "        text-align: right;\n",
       "    }\n",
       "</style>\n",
       "<table border=\"1\" class=\"dataframe\">\n",
       "  <thead>\n",
       "    <tr style=\"text-align: right;\">\n",
       "      <th></th>\n",
       "      <th>sepal length (cm)</th>\n",
       "      <th>sepal width (cm)</th>\n",
       "      <th>petal length (cm)</th>\n",
       "      <th>petal width (cm)</th>\n",
       "      <th>target</th>\n",
       "    </tr>\n",
       "  </thead>\n",
       "  <tbody>\n",
       "    <tr>\n",
       "      <th>145</th>\n",
       "      <td>6.7</td>\n",
       "      <td>3.0</td>\n",
       "      <td>5.2</td>\n",
       "      <td>2.3</td>\n",
       "      <td>2</td>\n",
       "    </tr>\n",
       "    <tr>\n",
       "      <th>146</th>\n",
       "      <td>6.3</td>\n",
       "      <td>2.5</td>\n",
       "      <td>5.0</td>\n",
       "      <td>1.9</td>\n",
       "      <td>2</td>\n",
       "    </tr>\n",
       "    <tr>\n",
       "      <th>147</th>\n",
       "      <td>6.5</td>\n",
       "      <td>3.0</td>\n",
       "      <td>5.2</td>\n",
       "      <td>2.0</td>\n",
       "      <td>2</td>\n",
       "    </tr>\n",
       "    <tr>\n",
       "      <th>148</th>\n",
       "      <td>6.2</td>\n",
       "      <td>3.4</td>\n",
       "      <td>5.4</td>\n",
       "      <td>2.3</td>\n",
       "      <td>2</td>\n",
       "    </tr>\n",
       "    <tr>\n",
       "      <th>149</th>\n",
       "      <td>5.9</td>\n",
       "      <td>3.0</td>\n",
       "      <td>5.1</td>\n",
       "      <td>1.8</td>\n",
       "      <td>2</td>\n",
       "    </tr>\n",
       "  </tbody>\n",
       "</table>\n",
       "</div>"
      ],
      "text/plain": [
       "     sepal length (cm)  sepal width (cm)  petal length (cm)  petal width (cm)  \\\n",
       "145                6.7               3.0                5.2               2.3   \n",
       "146                6.3               2.5                5.0               1.9   \n",
       "147                6.5               3.0                5.2               2.0   \n",
       "148                6.2               3.4                5.4               2.3   \n",
       "149                5.9               3.0                5.1               1.8   \n",
       "\n",
       "     target  \n",
       "145       2  \n",
       "146       2  \n",
       "147       2  \n",
       "148       2  \n",
       "149       2  "
      ]
     },
     "metadata": {},
     "output_type": "display_data"
    },
    {
     "data": {
      "text/html": [
       "<div>\n",
       "<style scoped>\n",
       "    .dataframe tbody tr th:only-of-type {\n",
       "        vertical-align: middle;\n",
       "    }\n",
       "\n",
       "    .dataframe tbody tr th {\n",
       "        vertical-align: top;\n",
       "    }\n",
       "\n",
       "    .dataframe thead th {\n",
       "        text-align: right;\n",
       "    }\n",
       "</style>\n",
       "<table border=\"1\" class=\"dataframe\">\n",
       "  <thead>\n",
       "    <tr style=\"text-align: right;\">\n",
       "      <th></th>\n",
       "      <th>sepal length (cm)</th>\n",
       "      <th>sepal width (cm)</th>\n",
       "      <th>petal length (cm)</th>\n",
       "      <th>petal width (cm)</th>\n",
       "      <th>target</th>\n",
       "    </tr>\n",
       "  </thead>\n",
       "  <tbody>\n",
       "    <tr>\n",
       "      <th>count</th>\n",
       "      <td>150.000000</td>\n",
       "      <td>150.000000</td>\n",
       "      <td>150.000000</td>\n",
       "      <td>150.000000</td>\n",
       "      <td>150.000000</td>\n",
       "    </tr>\n",
       "    <tr>\n",
       "      <th>mean</th>\n",
       "      <td>5.843333</td>\n",
       "      <td>3.057333</td>\n",
       "      <td>3.758000</td>\n",
       "      <td>1.199333</td>\n",
       "      <td>1.000000</td>\n",
       "    </tr>\n",
       "    <tr>\n",
       "      <th>std</th>\n",
       "      <td>0.828066</td>\n",
       "      <td>0.435866</td>\n",
       "      <td>1.765298</td>\n",
       "      <td>0.762238</td>\n",
       "      <td>0.819232</td>\n",
       "    </tr>\n",
       "    <tr>\n",
       "      <th>min</th>\n",
       "      <td>4.300000</td>\n",
       "      <td>2.000000</td>\n",
       "      <td>1.000000</td>\n",
       "      <td>0.100000</td>\n",
       "      <td>0.000000</td>\n",
       "    </tr>\n",
       "    <tr>\n",
       "      <th>25%</th>\n",
       "      <td>5.100000</td>\n",
       "      <td>2.800000</td>\n",
       "      <td>1.600000</td>\n",
       "      <td>0.300000</td>\n",
       "      <td>0.000000</td>\n",
       "    </tr>\n",
       "    <tr>\n",
       "      <th>50%</th>\n",
       "      <td>5.800000</td>\n",
       "      <td>3.000000</td>\n",
       "      <td>4.350000</td>\n",
       "      <td>1.300000</td>\n",
       "      <td>1.000000</td>\n",
       "    </tr>\n",
       "    <tr>\n",
       "      <th>75%</th>\n",
       "      <td>6.400000</td>\n",
       "      <td>3.300000</td>\n",
       "      <td>5.100000</td>\n",
       "      <td>1.800000</td>\n",
       "      <td>2.000000</td>\n",
       "    </tr>\n",
       "    <tr>\n",
       "      <th>max</th>\n",
       "      <td>7.900000</td>\n",
       "      <td>4.400000</td>\n",
       "      <td>6.900000</td>\n",
       "      <td>2.500000</td>\n",
       "      <td>2.000000</td>\n",
       "    </tr>\n",
       "  </tbody>\n",
       "</table>\n",
       "</div>"
      ],
      "text/plain": [
       "       sepal length (cm)  sepal width (cm)  petal length (cm)  \\\n",
       "count         150.000000        150.000000         150.000000   \n",
       "mean            5.843333          3.057333           3.758000   \n",
       "std             0.828066          0.435866           1.765298   \n",
       "min             4.300000          2.000000           1.000000   \n",
       "25%             5.100000          2.800000           1.600000   \n",
       "50%             5.800000          3.000000           4.350000   \n",
       "75%             6.400000          3.300000           5.100000   \n",
       "max             7.900000          4.400000           6.900000   \n",
       "\n",
       "       petal width (cm)      target  \n",
       "count        150.000000  150.000000  \n",
       "mean           1.199333    1.000000  \n",
       "std            0.762238    0.819232  \n",
       "min            0.100000    0.000000  \n",
       "25%            0.300000    0.000000  \n",
       "50%            1.300000    1.000000  \n",
       "75%            1.800000    2.000000  \n",
       "max            2.500000    2.000000  "
      ]
     },
     "metadata": {},
     "output_type": "display_data"
    }
   ],
   "source": [
    "from sklearn.datasets import load_iris\n",
    "from IPython.display import display\n",
    "from sklearn.model_selection import train_test_split\n",
    "from sklearn.preprocessing import StandardScaler\n",
    "import pandas as pd\n",
    "import warnings \n",
    "warnings.filterwarnings(\"ignore\")\n",
    "\n",
    "iris_data = load_iris()\n",
    "iris_df = pd.DataFrame(iris_data.data, columns=iris_data.feature_names)\n",
    "iris_df[\"target\"] = iris_data.target\n",
    "\n",
    "#データを表示\n",
    "display(iris_df.head())\n",
    "display(iris_df.tail())\n",
    "\n",
    "#データの統計量の表示\n",
    "display(iris_df.describe())"
   ]
  },
  {
   "cell_type": "markdown",
   "metadata": {},
   "source": [
    "# 2. データの前処理 #\n",
    "読み込んだデータを機械学習に適した形式にしていきます。通常データは、データの欠損やスケールの不一致など、機械学習に適していない状態で存在しているので機械学習で使用できるようにします。前処理の良し悪しによって学習結果の良し悪しが決まる重要な工程なので、機械学習を行う上で多くの時間と労力を費やすことになります。今回は簡単に以下の事を実施しました。\n",
    "\n",
    "- データの分割(学習用、検証用)\n",
    "- データの標準化\n",
    "- 主成分分析による特徴量の選択\n",
    "\n",
    "### データの分割と標準化 ###"
   ]
  },
  {
   "cell_type": "code",
   "execution_count": 2,
   "metadata": {},
   "outputs": [],
   "source": [
    "#学習用(&検証用)データとテスト用データを分ける\n",
    "x_train, x_test, y_train, y_test = train_test_split(\n",
    "    iris_df.iloc[:, 0:4],\n",
    "    iris_df.iloc[:, 4],\n",
    "    test_size = 0.3,\n",
    "    random_state=1\n",
    ")\n",
    "\n",
    "#データの標準化\n",
    "scl = StandardScaler()\n",
    "scl.fit(x_train) #学習用データで標準化\n",
    "x_train_std = scl.transform(x_train)\n",
    "x_test_std = scl.transform(x_test)"
   ]
  },
  {
   "cell_type": "markdown",
   "metadata": {},
   "source": [
    "# 3. 主成分分析による特徴量の選択 #\n",
    "読み込んだデータには４つの特徴量があることがわかります。特徴量が多いと学習効率が悪くなるので可能であれば使用する特徴量を減らそうと思います。そこでどの特徴量を使用するかを主成分分析で決めていきます。"
   ]
  },
  {
   "cell_type": "code",
   "execution_count": 3,
   "metadata": {},
   "outputs": [
    {
     "name": "stdout",
     "output_type": "stream",
     "text": [
      "寄与率: ['72.2%', '23.5%', '4.0%', '0.4%']\n"
     ]
    }
   ],
   "source": [
    "from sklearn.decomposition import PCA\n",
    "import numpy as np\n",
    "\n",
    "pca=PCA()\n",
    "pca.fit(x_train_std)\n",
    "# display(pca.explained_variance_ratio_)\n",
    "tot = sum(pca.explained_variance_ratio_)\n",
    "print(\"寄与率:\", str([\"{:.1f}%\".format(val * 100/tot)  for val in pca.explained_variance_ratio_]))"
   ]
  },
  {
   "cell_type": "markdown",
   "metadata": {},
   "source": [
    "主成分分析を実行したら主成分軸のpc1とpc2の寄与が高いことがわかります。そこで試しにpc1とpc2から成る２次元空間にデータを射影してみましょう。まずは変換後の次元が２次元になるように主成分分析を改めて実行した後にデータを射影したものを下に図示しました。"
   ]
  },
  {
   "cell_type": "code",
   "execution_count": 10,
   "metadata": {},
   "outputs": [
    {
     "name": "stdout",
     "output_type": "stream",
     "text": [
      "データをpc1, pc2に射影した図\n"
     ]
    },
    {
     "data": {
      "image/png": "[encoded data removed]",
      "text/plain": [
       "<Figure size 432x288 with 1 Axes>"
      ]
     },
     "metadata": {
      "needs_background": "light"
     },
     "output_type": "display_data"
    }
   ],
   "source": [
    "import matplotlib.pyplot as plt\n",
    "pca = PCA(n_components=2)\n",
    "pca.fit(x_train_std)\n",
    "x_train_pca = pca.transform(x_train_std)\n",
    "\n",
    "def show_scatter(x, y):\n",
    "    markers = [\"s\", \"x\", \"v\"]\n",
    "    for idx, label in enumerate(np.unique(y_train)):\n",
    "        plt.scatter(\n",
    "            x=x[y == label, 0], \n",
    "            y=x[y == label, 1],\n",
    "            marker = markers[idx],\n",
    "            label = label\n",
    "        )\n",
    "    plt.xlabel(\"pc1\")\n",
    "    plt.ylabel(\"pc2\")\n",
    "    plt.show()\n",
    "\n",
    "print(\"データをpc1, pc2に射影した図\")\n",
    "show_scatter(x_train_pca, y_train)"
   ]
  },
  {
   "cell_type": "markdown",
   "metadata": {},
   "source": [
    " 上図を見るとpc1とpc2でうまく分類できそうですね。では、このpc1とpc2はどの様な特徴量を表しているのか確かめてみます。そのためには、元の特徴量をpc1, pc2の空間に射影します。"
   ]
  },
  {
   "cell_type": "code",
   "execution_count": 5,
   "metadata": {},
   "outputs": [
    {
     "data": {
      "image/png": "[encoded data removed]",
      "text/plain": [
       "<Figure size 432x288 with 1 Axes>"
      ]
     },
     "metadata": {
      "needs_background": "light"
     },
     "output_type": "display_data"
    }
   ],
   "source": [
    "axis = np.array(\n",
    "    [[1, 0, 0, 0],\n",
    "    [0, 1, 0, 0],\n",
    "    [0, 0, 1, 0],\n",
    "    [0, 0, 0, 1]],\n",
    "    np.float\n",
    ")\n",
    "\n",
    "axis_pca = pca.transform(axis)\n",
    "markers = [\"s\", \"v\", \"x\", \"o\"]\n",
    "for idx, val in enumerate(range(4)):\n",
    "    plt.scatter(\n",
    "        x = axis_pca[idx, 0], \n",
    "        y = axis_pca[idx, 1],\n",
    "        marker = markers[idx],\n",
    "        label = iris_df.columns[idx]\n",
    "    )\n",
    "plt.legend()\n",
    "plt.xlim(-1, 1)\n",
    "plt.ylim(-1, 1)\n",
    "plt.grid()\n",
    "plt.show()"
   ]
  },
  {
   "cell_type": "markdown",
   "metadata": {},
   "source": [
    "上図は元の特徴ベクトルをpc1, pc2に射影したものです。図より\"sepal width\"以外の特徴量は近い位置に存在していて似た情報であることがわかります。よって、分類問題で使用する特徴量としては\"sepal width\"と\"petal length\"を使用することにします。"
   ]
  },
  {
   "cell_type": "markdown",
   "metadata": {},
   "source": [
    "# 4. ロジステック回帰モデルの学習#\n",
    "使用する特徴量が決まったので、ロジステック回帰モデルをデータに適用して分類してみたいと思います。また、精度をあげるためにグリッドサーチによるハイパーパラメータの調整を行いました。"
   ]
  },
  {
   "cell_type": "code",
   "execution_count": 6,
   "metadata": {},
   "outputs": [
    {
     "name": "stdout",
     "output_type": "stream",
     "text": [
      "93.33%\n"
     ]
    }
   ],
   "source": [
    "from sklearn.linear_model import LogisticRegression\n",
    "from sklearn.model_selection import GridSearchCV\n",
    "params = {\"C\": [0.001, 1, 10 , 100, 1000]}\n",
    "rg = LogisticRegression()\n",
    "grid = GridSearchCV(\n",
    "    estimator = rg,\n",
    "    param_grid = params,\n",
    "    cv = 5\n",
    ")\n",
    "grid.fit(x_train_std[:, [1, 2]], y_train)\n",
    "print(\"{:.2f}%\".format(grid.score(x_train_std[:, [1, 2]], y_train) * 100))"
   ]
  },
  {
   "cell_type": "markdown",
   "metadata": {},
   "source": [
    "ハイパーパラメータを調整した結果、学習データで93.3%の正解率となりました。良さそうなモデルです!!では、グリッドサーチによるパラメータの調整結果を見ると\"C\"の調整結果は\"C\"=100となっていることがわかります。\"C\"は正則化に関するパラメータでモデルの過学習を予防します。"
   ]
  },
  {
   "cell_type": "code",
   "execution_count": 7,
   "metadata": {},
   "outputs": [
    {
     "name": "stdout",
     "output_type": "stream",
     "text": [
      "0.9238095238095239\n",
      "{'C': 1000}\n"
     ]
    }
   ],
   "source": [
    "print(grid.best_score_)\n",
    "print(grid.best_params_)"
   ]
  },
  {
   "cell_type": "markdown",
   "metadata": {},
   "source": [
    "# 5. モデルの評価 #\n",
    "最後に作成したモデルの評価を行いたいと思います。様々な評価方法がありますが、今回はシンプルな正解率で評価したいと思います。正解率とはモデルが正しく予想したデータの割合のことです。ここで注意することは、モデルの学習に使用したデータを使って評価をしてはいけないということです。今回は、最初に用意した検証用データを用いて正解率を計算します。"
   ]
  },
  {
   "cell_type": "code",
   "execution_count": 8,
   "metadata": {},
   "outputs": [
    {
     "name": "stdout",
     "output_type": "stream",
     "text": [
      "正解率:95.56%\n"
     ]
    }
   ],
   "source": [
    "from sklearn.metrics import accuracy_score\n",
    "print( \"正解率:{:.2f}%\".format(accuracy_score(y_test, grid.predict(x_test_std[:, [1, 2]])) * 100 ))"
   ]
  },
  {
   "cell_type": "markdown",
   "metadata": {},
   "source": [
    "検証用データを使用した正解率は95.5%となかなかの結果が出ました。"
   ]
  },
  {
   "cell_type": "markdown",
   "metadata": {},
   "source": [
    "# 6. まとめ #\n",
    "以上が分類問題を機械学習で解く場合の基本的な流れです。今回紹介した流れは僕が勉強したことを僕の理解の範囲内でまとめたものにすぎません、よってもっと適切な方法があるはずです。でも、まあ入門としては及第点ですかね？今後さらに勉強して、いろいろなモデルや評価方法を試していきたいと思います。"
   ]
  },
  {
   "cell_type": "markdown",
   "metadata": {},
   "source": [
    "# おまけ#\n",
    "scikit-learnを使用しない主成分分析の方法をメモっておきます。"
   ]
  },
  {
   "cell_type": "code",
   "execution_count": 9,
   "metadata": {},
   "outputs": [
    {
     "name": "stdout",
     "output_type": "stream",
     "text": [
      "['0.72', '0.23', '0.04', '0.00']\n"
     ]
    }
   ],
   "source": [
    "# scikit-learnを使用しないでPCAを実行する\n",
    "import numpy as np\n",
    "\n",
    "# 共分散行列\n",
    "cov_mat = np.cov(x_train_std.T)\n",
    "# 固有値と固有ベクトル\n",
    "eigen_vals, eigen_vecs = np.linalg.eig(cov_mat)\n",
    "# 分散説明率(寄与率)\n",
    "tot = sum(eigen_vals)\n",
    "cont_rate = [val / tot for val in eigen_vals]\n",
    "print([\"{:.2f}\".format(i) for i in cont_rate])"
   ]
  },
  {
   "cell_type": "code",
   "execution_count": null,
   "metadata": {},
   "outputs": [],
   "source": []
  }
 ],
 "metadata": {
  "kernelspec": {
   "display_name": "Python 3",
   "language": "python",
   "name": "python3"
  },
  "language_info": {
   "codemirror_mode": {
    "name": "ipython",
    "version": 3
   },
   "file_extension": ".py",
   "mimetype": "text/x-python",
   "name": "python",
   "nbconvert_exporter": "python",
   "pygments_lexer": "ipython3",
   "version": "3.7.2"
  }
 },
 "nbformat": 4,
 "nbformat_minor": 4
}
