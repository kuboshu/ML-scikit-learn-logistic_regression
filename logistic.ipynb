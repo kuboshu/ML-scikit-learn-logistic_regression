{
 "cells": [
  {
   "cell_type": "markdown",
   "metadata": {},
   "source": [
    "# 特徴量を選択する方法について #"
   ]
  },
  {
   "cell_type": "markdown",
   "metadata": {},
   "source": [
    "## この記事の目的 ##\n",
    "前回の記事では、irisの分類問題を解く一連の流れを書きましたが、今回はその中の次元削減に注目していきたいと思います。また、PCAとLDAによって次元削減した結果、分類精度がどうなるかを試してみました。"
   ]
  },
  {
   "cell_type": "markdown",
   "metadata": {},
   "source": [
    "## PCAとLDAの違い(ざっくり) ##\n",
    "1. PCAは分散が最大になる方向に"
   ]
  },
  {
   "cell_type": "markdown",
   "metadata": {},
   "source": [
    "# 1. データ読み込み、データの前処理 #\n",
    "ここではデータの読み込みからデータの分割までを行なっています。"
   ]
  },
  {
   "cell_type": "code",
   "execution_count": 1,
   "metadata": {},
   "outputs": [],
   "source": [
    "from sklearn.datasets import load_iris\n",
    "from IPython.display import display\n",
    "from sklearn.model_selection import train_test_split\n",
    "from sklearn.preprocessing import StandardScaler\n",
    "import pandas as pd\n",
    "import warnings \n",
    "warnings.filterwarnings(\"ignore\")\n",
    "\n",
    "iris_data = load_iris()\n",
    "iris_df = pd.DataFrame(iris_data.data, columns=iris_data.feature_names)\n",
    "iris_df[\"target\"] = iris_data.target\n",
    "\n",
    "#学習用(&検証用)データとテスト用データを分ける\n",
    "x_train, x_test, y_train, y_test = train_test_split(\n",
    "    iris_df.iloc[:, 0:4],\n",
    "    iris_df.iloc[:, 4],\n",
    "    test_size = 0.3,\n",
    "    random_state=1\n",
    ")\n",
    "\n",
    "#データの標準化\n",
    "scl = StandardScaler()\n",
    "scl.fit(x_train) #学習用データで標準化\n",
    "x_train_std = scl.transform(x_train)\n",
    "x_test_std = scl.transform(x_test)"
   ]
  },
  {
   "cell_type": "markdown",
   "metadata": {},
   "source": [
    "# 2. PCA(主成分分析)とLDA(線形判別分析)による次元削減 #\n",
    "### PCAによる次元削減 ###"
   ]
  },
  {
   "cell_type": "code",
   "execution_count": 2,
   "metadata": {},
   "outputs": [
    {
     "name": "stdout",
     "output_type": "stream",
     "text": [
      "寄与率: ['72.2%', '23.5%', '4.0%', '0.4%']\n"
     ]
    }
   ],
   "source": [
    "from sklearn.decomposition import PCA\n",
    "import numpy as np\n",
    "\n",
    "pca=PCA()\n",
    "pca.fit(x_train_std)\n",
    "# display(pca.explained_variance_ratio_)\n",
    "tot = sum(pca.explained_variance_ratio_)\n",
    "print(\"寄与率:\", str([\"{:.1f}%\".format(val * 100/tot)  for val in pca.explained_variance_ratio_]))"
   ]
  },
  {
   "cell_type": "markdown",
   "metadata": {},
   "source": [
    "寄与率をみると、上位２つで95%以上の寄与率となっているので、PCAでは２次元に縮小したいと思います。"
   ]
  },
  {
   "cell_type": "code",
   "execution_count": 3,
   "metadata": {},
   "outputs": [],
   "source": [
    "import matplotlib.pyplot as plt\n",
    "pca = PCA(n_components=2)\n",
    "pca.fit(x_train_std)\n",
    "x_train_pca = pca.transform(x_train_std)"
   ]
  },
  {
   "cell_type": "markdown",
   "metadata": {},
   "source": [
    "### LDA(Linear Discriminant Analysis)による次元削減 ###"
   ]
  },
  {
   "cell_type": "code",
   "execution_count": 5,
   "metadata": {},
   "outputs": [
    {
     "ename": "ModuleNotFoundError",
     "evalue": "No module named 'sklearn.lda'",
     "output_type": "error",
     "traceback": [
      "\u001b[0;31m---------------------------------------------------------------------------\u001b[0m",
      "\u001b[0;31mModuleNotFoundError\u001b[0m                       Traceback (most recent call last)",
      "\u001b[0;32m<ipython-input-5-38c9358c5e81>\u001b[0m in \u001b[0;36m<module>\u001b[0;34m\u001b[0m\n\u001b[1;32m      1\u001b[0m \u001b[0;31m#from sklearn.discriminant_analysis import LinearDiscriminantAnalysis as LDA\u001b[0m\u001b[0;34m\u001b[0m\u001b[0;34m\u001b[0m\u001b[0;34m\u001b[0m\u001b[0m\n\u001b[0;32m----> 2\u001b[0;31m \u001b[0;32mfrom\u001b[0m \u001b[0msklearn\u001b[0m\u001b[0;34m.\u001b[0m\u001b[0mlda\u001b[0m \u001b[0;32mimport\u001b[0m \u001b[0mLDA\u001b[0m\u001b[0;34m\u001b[0m\u001b[0;34m\u001b[0m\u001b[0m\n\u001b[0m",
      "\u001b[0;31mModuleNotFoundError\u001b[0m: No module named 'sklearn.lda'"
     ]
    }
   ],
   "source": [
    "from sklearn.discriminant_analysis import LinearDiscriminantAnalysis as LDA\n",
    "lda = LDA()\n",
    " "
   ]
  },
  {
   "cell_type": "markdown",
   "metadata": {},
   "source": [
    "# 3. 主成分分析による特徴量の選択 #\n",
    "読み込んだデータには４つの特徴量があります。特徴量が多いと学習効率が悪くなるので可能であれば使用する特徴量を減らします。そこでどの特徴量を使用するかを主成分分析で決めていきます。\n",
    "\n",
    "主成分分析の詳細については他の記事([例えばこちら](https://logics-of-blue.com/principal-components-analysis/))を参考にしてください。ただ簡単に言いますと、データの分散が最大になる方向に軸を取り直すことを言います。"
   ]
  },
  {
   "cell_type": "code",
   "execution_count": null,
   "metadata": {},
   "outputs": [],
   "source": []
  },
  {
   "cell_type": "code",
   "execution_count": 3,
   "metadata": {},
   "outputs": [
    {
     "name": "stdout",
     "output_type": "stream",
     "text": [
      "寄与率: ['72.2%', '23.5%', '4.0%', '0.4%']\n"
     ]
    }
   ],
   "source": [
    "from sklearn.decomposition import PCA\n",
    "import numpy as np\n",
    "\n",
    "pca=PCA()\n",
    "pca.fit(x_train_std)\n",
    "# display(pca.explained_variance_ratio_)\n",
    "tot = sum(pca.explained_variance_ratio_)\n",
    "print(\"寄与率:\", str([\"{:.1f}%\".format(val * 100/tot)  for val in pca.explained_variance_ratio_]))"
   ]
  },
  {
   "cell_type": "markdown",
   "metadata": {},
   "source": [
    "主成分分析を実行したら主成分軸のpc1とpc2の寄与率が高いことがわかります。そこで試しにpc1とpc2から成る２次元空間にデータを射影してみましょう。まずは変換後の次元が２次元になるように主成分分析を改めて実行した後にデータを射影したものを下に図示しました。"
   ]
  },
  {
   "cell_type": "code",
   "execution_count": 5,
   "metadata": {},
   "outputs": [
    {
     "name": "stdout",
     "output_type": "stream",
     "text": [
      "データをpc1, pc2に射影した図\n"
     ]
    },
    {
     "data": {
      "image/png": "[encoded data removed]",
      "text/plain": [
       "<Figure size 432x288 with 1 Axes>"
      ]
     },
     "metadata": {
      "needs_background": "light"
     },
     "output_type": "display_data"
    }
   ],
   "source": [
    "import matplotlib.pyplot as plt\n",
    "pca = PCA(n_components=2)\n",
    "pca.fit(x_train_std)\n",
    "x_train_pca = pca.transform(x_train_std)\n",
    "\n",
    "def show_scatter(x, y):\n",
    "    markers = [\"s\", \"x\", \"v\"]\n",
    "    for idx, label in enumerate(np.unique(y)):\n",
    "        plt.scatter(\n",
    "            x=x[y == label, 0], \n",
    "            y=x[y == label, 1],\n",
    "            marker = markers[idx],\n",
    "            label = label\n",
    "        )\n",
    "    plt.grid()\n",
    "    plt.xlabel(\"pc1\")\n",
    "    plt.ylabel(\"pc2\")\n",
    "    plt.show()\n",
    "\n",
    "print(\"データをpc1, pc2に射影した図\")\n",
    "show_scatter(x_train_pca, y_train)"
   ]
  },
  {
   "cell_type": "markdown",
   "metadata": {},
   "source": [
    " 上図を見るとpc1とpc2でうまく分類できそうな感じがしますね。では、このpc1とpc2はどの様な特徴量を表しているのかに関してですが、分散が最大になる方向に自動作成された軸(特徴量)であり意味があるものとは限りません。ではどの様にして主成分分析の結果から特徴量を選ぶかというと、元の特徴量をpc1, pc2の空間に射影してお互いに似ていない特徴量を選んで使用します。"
   ]
  },
  {
   "cell_type": "code",
   "execution_count": 6,
   "metadata": {},
   "outputs": [
    {
     "data": {
      "image/png": "[encoded data removed]",
      "text/plain": [
       "<Figure size 432x288 with 1 Axes>"
      ]
     },
     "metadata": {
      "needs_background": "light"
     },
     "output_type": "display_data"
    }
   ],
   "source": [
    "axis = np.array(\n",
    "    [[1, 0, 0, 0],\n",
    "    [0, 1, 0, 0],\n",
    "    [0, 0, 1, 0],\n",
    "    [0, 0, 0, 1]],\n",
    "    np.float\n",
    ")\n",
    "\n",
    "axis_pca = pca.transform(axis)\n",
    "markers = [\"s\", \"v\", \"x\", \"o\"]\n",
    "for idx, val in enumerate(range(4)):\n",
    "    plt.scatter(\n",
    "        x = axis_pca[idx, 0], \n",
    "        y = axis_pca[idx, 1],\n",
    "        marker = markers[idx],\n",
    "        label = iris_df.columns[idx]\n",
    "    )\n",
    "plt.legend()\n",
    "plt.xlabel(\"pc1\")\n",
    "plt.ylabel(\"pc2\")\n",
    "plt.xlim(-1, 1)\n",
    "plt.ylim(-1, 1)\n",
    "plt.grid()\n",
    "plt.show()"
   ]
  },
  {
   "cell_type": "markdown",
   "metadata": {},
   "source": [
    "上図は元の特徴ベクトルをpc1, pc2に射影したものです。図より\"sepal width\"以外の特徴量は近い位置に存在していて似た情報であることがわかります。よって、分類問題で使用する特徴量としては\"sepal width\"と\"petal length\"を使用することにします。"
   ]
  },
  {
   "cell_type": "markdown",
   "metadata": {},
   "source": [
    "# 4. ロジステック回帰モデルの学習#\n",
    "使用する特徴量が決まったので、ロジステック回帰モデルをデータに適用して分類してみたいと思います。また、精度をあげるためにグリッドサーチによるハイパーパラメータの調整を行いました。"
   ]
  },
  {
   "cell_type": "code",
   "execution_count": 7,
   "metadata": {},
   "outputs": [
    {
     "name": "stdout",
     "output_type": "stream",
     "text": [
      "93.33%\n"
     ]
    }
   ],
   "source": [
    "from sklearn.linear_model import LogisticRegression\n",
    "from sklearn.model_selection import GridSearchCV\n",
    "params = {\"C\": [0.001, 1, 10 , 100, 1000]}\n",
    "rg = LogisticRegression()\n",
    "grid = GridSearchCV(\n",
    "    estimator = rg,\n",
    "    param_grid = params,\n",
    "    cv = 5\n",
    ")\n",
    "grid.fit(x_train_std[:, [1, 2]], y_train)\n",
    "print(\"{:.2f}%\".format(grid.score(x_train_std[:, [1, 2]], y_train) * 100))"
   ]
  },
  {
   "cell_type": "markdown",
   "metadata": {},
   "source": [
    "ハイパーパラメータを調整した結果、学習データで93.3%の正解率となりました。良さそうなモデルです!!では、グリッドサーチによるパラメータの調整結果を見ると\"C\"の調整結果は\"C\"=100となっていることがわかります。\"C\"は正則化に関するパラメータでモデルの過学習を予防します。"
   ]
  },
  {
   "cell_type": "code",
   "execution_count": 8,
   "metadata": {},
   "outputs": [
    {
     "name": "stdout",
     "output_type": "stream",
     "text": [
      "0.9238095238095239\n",
      "{'C': 1000}\n"
     ]
    }
   ],
   "source": [
    "print(grid.best_score_)\n",
    "print(grid.best_params_)"
   ]
  },
  {
   "cell_type": "markdown",
   "metadata": {},
   "source": [
    "# 5. モデルの評価 #\n",
    "最後に作成したモデルの評価を行いたいと思います。様々な評価方法がありますが、今回はシンプルな正解率で評価したいと思います。正解率とはモデルが正しく予想したデータの割合のことです。ここで注意することは、モデルの学習に使用したデータを使って評価をしてはいけないということです。今回は、最初に用意した検証用データを用いて正解率を計算します。"
   ]
  },
  {
   "cell_type": "code",
   "execution_count": 9,
   "metadata": {},
   "outputs": [
    {
     "name": "stdout",
     "output_type": "stream",
     "text": [
      "正解率:95.56%\n"
     ]
    }
   ],
   "source": [
    "from sklearn.metrics import accuracy_score\n",
    "print( \"正解率:{:.2f}%\".format(accuracy_score(y_test, grid.predict(x_test_std[:, [1, 2]])) * 100 ))"
   ]
  },
  {
   "cell_type": "markdown",
   "metadata": {},
   "source": [
    "検証用データを使用した正解率は95.5%となかなかの結果が出ました。"
   ]
  },
  {
   "cell_type": "markdown",
   "metadata": {},
   "source": [
    "# 6. まとめ #\n",
    "以上が分類問題を機械学習で解く場合の基本的な流れです。今回紹介した流れは僕が勉強したことを僕の理解の範囲内でまとめたものにすぎません、よってもっと適切な方法があるはずです。でも、まあ入門としては及第点ですかね？今後さらに勉強して、いろいろなモデルや評価方法を試していきたいと思います。"
   ]
  },
  {
   "cell_type": "markdown",
   "metadata": {},
   "source": [
    "# おまけ#\n",
    "scikit-learnを使用しない主成分分析の方法をメモっておきます。"
   ]
  },
  {
   "cell_type": "code",
   "execution_count": 10,
   "metadata": {},
   "outputs": [
    {
     "name": "stdout",
     "output_type": "stream",
     "text": [
      "['0.72', '0.23', '0.04', '0.00']\n"
     ]
    }
   ],
   "source": [
    "# scikit-learnを使用しないでPCAを実行する\n",
    "import numpy as np\n",
    "\n",
    "# 共分散行列\n",
    "cov_mat = np.cov(x_train_std.T)\n",
    "# 固有値と固有ベクトル\n",
    "eigen_vals, eigen_vecs = np.linalg.eig(cov_mat)\n",
    "# 分散説明率(寄与率)\n",
    "tot = sum(eigen_vals)\n",
    "cont_rate = [val / tot for val in eigen_vals]\n",
    "print([\"{:.2f}\".format(i) for i in cont_rate])"
   ]
  },
  {
   "cell_type": "code",
   "execution_count": null,
   "metadata": {},
   "outputs": [],
   "source": []
  }
 ],
 "metadata": {
  "kernelspec": {
   "display_name": "Python 3",
   "language": "python",
   "name": "python3"
  },
  "language_info": {
   "codemirror_mode": {
    "name": "ipython",
    "version": 3
   },
   "file_extension": ".py",
   "mimetype": "text/x-python",
   "name": "python",
   "nbconvert_exporter": "python",
   "pygments_lexer": "ipython3",
   "version": "3.7.2"
  }
 },
 "nbformat": 4,
 "nbformat_minor": 4
}
