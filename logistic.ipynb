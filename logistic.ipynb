{
 "cells": [
  {
   "cell_type": "markdown",
   "metadata": {},
   "source": [
    "# 分類問題で使いそうな次元削減手法のまとめ #"
   ]
  },
  {
   "cell_type": "markdown",
   "metadata": {},
   "source": [
    "## この記事の目的 ##\n",
    "前回の記事ではirisの分類問題を解く一連の流れを書きましたが、今回はその中で特徴量の次元削減についてまとめました。記事の中では数個の手法で実際に特徴量を削減してirisの分類精度にどの程度影響するか確認してみました。特徴量の削減は、過学習の予防や計算効率の向上に役に立つので重要な行程ですので、ぜひ覚えておきたいテクニックです。"
   ]
  },
  {
   "cell_type": "markdown",
   "metadata": {},
   "source": [
    "## 次元とは ##\n",
    "機械学習における「次元」とは特徴量の数の事をいいます。例えば、身体測定の結果から性別を判別しようとしたら、身体測定の測定項目(身長、体重、視力、etc)の数が「次元」となります。"
   ]
  },
  {
   "cell_type": "markdown",
   "metadata": {},
   "source": [
    "## 次元削減とは ##\n",
    "次元削減とは、学習効率や精度を改善するために次元を削減する(特徴量を減らす)手法のことです。次元削減には様々な方法がありますが、今回は(初心者の僕の知識内で)一般的と思われる手法を試してみました。試した手法は以下のとおりです。並びの順序は特に意味はなく思いついた順番です。\n",
    "\n",
    "1. PCA(主成分分析)による次元削減\n",
    "2. LDA(線形判別分析)による次元削減・・・フィッシャーの線形判別\n",
    "3. ランダムフォレスト\n",
    "4. RFE・・・ロジスティック回帰で実験\n",
    "5. 総当たり法・・・ロジスティック回帰で実験\n",
    "6. 変数指定法\n",
    "7. 相関係数\n",
    "8. Forward Selection\n",
    "9. Backward Selection"
   ]
  },
  {
   "cell_type": "markdown",
   "metadata": {},
   "source": [
    "# 0. データ読み込み、データの前処理 #\n",
    "ここではデータの読み込みからデータの分割までを行なっています。"
   ]
  },
  {
   "cell_type": "code",
   "execution_count": 1,
   "metadata": {},
   "outputs": [],
   "source": [
    "from sklearn.datasets import load_iris\n",
    "from IPython.display import display\n",
    "from sklearn.model_selection import train_test_split\n",
    "from sklearn.preprocessing import StandardScaler\n",
    "import pandas as pd\n",
    "import warnings \n",
    "warnings.filterwarnings(\"ignore\")\n",
    "\n",
    "iris_data = load_iris()\n",
    "iris_df = pd.DataFrame(iris_data.data, columns=iris_data.feature_names)\n",
    "iris_df[\"target\"] = iris_data.target\n",
    "\n",
    "#学習用(&検証用)データとテスト用データを分ける\n",
    "x_train, x_test, y_train, y_test = train_test_split(\n",
    "    iris_df.iloc[:, 0:4],\n",
    "    iris_df.iloc[:, 4],\n",
    "    test_size = 0.3,\n",
    "    random_state=1\n",
    ")\n",
    "\n",
    "#データの標準化\n",
    "scl = StandardScaler()\n",
    "scl.fit(x_train) #学習用データで標準化\n",
    "x_train_std = scl.transform(x_train)\n",
    "x_test_std = scl.transform(x_test)"
   ]
  },
  {
   "cell_type": "markdown",
   "metadata": {},
   "source": [
    "# 1. PCAによる次元削減 #\n",
    "PCA(Principal Component Analysis)は、データの分散が最大になるように新しい特徴量の軸を作成する、教師なし学習による次元削減手法です。これはデータの分散がデータ分類のための重要な情報であるという考えに基づいています。"
   ]
  },
  {
   "cell_type": "markdown",
   "metadata": {},
   "source": [
    "### PCAの特徴 ###\n",
    "- 教師なし学習\n",
    "- 分散最大となる方向に次元軸を作成する。"
   ]
  },
  {
   "cell_type": "code",
   "execution_count": 2,
   "metadata": {},
   "outputs": [
    {
     "name": "stdout",
     "output_type": "stream",
     "text": [
      "寄与率: ['72.2%', '23.5%', '4.0%', '0.4%']\n"
     ]
    }
   ],
   "source": [
    "from sklearn.decomposition import PCA\n",
    "import numpy as np\n",
    "\n",
    "pca=PCA()\n",
    "pca.fit(x_train_std)\n",
    "# display(pca.explained_variance_ratio_)\n",
    "tot = sum(pca.explained_variance_ratio_)\n",
    "print(\"寄与率:\", str([\"{:.1f}%\".format(val * 100/tot)  for val in pca.explained_variance_ratio_]))"
   ]
  },
  {
   "cell_type": "markdown",
   "metadata": {},
   "source": [
    "寄与率をみると、上位２つで95%以上の寄与率となっているので、PCAでは２次元に圧縮したいと思います。scikit-learnに用意されているPCAを2次元(n_component=2)に指定して使用します。これによって、もともと４次元であった特徴量が、新しい２次元(pc1, pc2)の特徴量空間に圧縮されます。"
   ]
  },
  {
   "cell_type": "code",
   "execution_count": 4,
   "metadata": {},
   "outputs": [
    {
     "name": "stdout",
     "output_type": "stream",
     "text": [
      "データをpc1, pc2に射影した図\n"
     ]
    },
    {
     "data": {
      "image/png": "[encoded data removed]",
      "text/plain": [
       "<Figure size 432x288 with 1 Axes>"
      ]
     },
     "metadata": {
      "needs_background": "light"
     },
     "output_type": "display_data"
    }
   ],
   "source": [
    "import matplotlib.pyplot as plt\n",
    "pca = PCA(n_components=2)\n",
    "pca.fit(x_train_std)\n",
    "# PCAによって２次元に圧縮された学習データ\n",
    "x_train_pca = pca.transform(x_train_std)\n",
    "\n",
    "# 圧縮された特徴量をグラフ化する\n",
    "def show_scatter(x, y):\n",
    "    markers = [\"s\", \"x\", \"v\"]\n",
    "    for idx, label in enumerate(np.unique(y)):\n",
    "        plt.scatter(\n",
    "            x=x[y == label, 0], \n",
    "            y=x[y == label, 1],\n",
    "            marker = markers[idx],\n",
    "            label = label\n",
    "        )\n",
    "    plt.grid()\n",
    "    plt.xlabel(\"pc1\")\n",
    "    plt.ylabel(\"pc2\")\n",
    "    plt.show()\n",
    "\n",
    "print(\"データをpc1, pc2に射影した図\")\n",
    "show_scatter(x_train_pca, y_train)"
   ]
  },
  {
   "cell_type": "markdown",
   "metadata": {},
   "source": [
    "### 参考 ###\n",
    "- [Python機械学習プログラミング](https://book.impress.co.jp/books/1117101099)"
   ]
  },
  {
   "cell_type": "markdown",
   "metadata": {},
   "source": [
    "# 2. LDAによる次元削減 #\n",
    "LDA(Linear Discriminant Analysis)は、各クラスに分類しやすいような新しい特徴量の軸を作成する、教師あり学習による次元削減手法です。"
   ]
  },
  {
   "cell_type": "markdown",
   "metadata": {},
   "source": [
    "### LDAの特徴 ###\n",
    "- 教師あり学習\n",
    "- 各クラスの共分散行列が等しい場合に使用できる"
   ]
  },
  {
   "cell_type": "code",
   "execution_count": 7,
   "metadata": {},
   "outputs": [
    {
     "data": {
      "text/plain": [
       "array([0.98975884, 0.01024116])"
      ]
     },
     "metadata": {},
     "output_type": "display_data"
    }
   ],
   "source": [
    "from sklearn.discriminant_analysis import LinearDiscriminantAnalysis as LDA\n",
    "lda = LDA()\n",
    "lda.fit(x_train_std, y_train)\n",
    "display(lda.explained_variance_ratio_)"
   ]
  },
  {
   "cell_type": "markdown",
   "metadata": {},
   "source": [
    "寄与率をみると、１つの変数で99%となっているので、今回はこの１次元で十分なので１次元に圧縮します。"
   ]
  },
  {
   "cell_type": "code",
   "execution_count": 11,
   "metadata": {},
   "outputs": [
    {
     "data": {
      "image/png": "[encoded data removed]",
      "text/plain": [
       "<Figure size 432x288 with 1 Axes>"
      ]
     },
     "metadata": {
      "needs_background": "light"
     },
     "output_type": "display_data"
    }
   ],
   "source": [
    "# 1次元でLDAのインスタンスを作成する\n",
    "lda = LDA(n_components=1) \n",
    "lda.fit(x_train_std, y_train)\n",
    "# 元データを新しい特徴量空間に射影\n",
    "x_train_lda = lda.transform(x_train_std)\n",
    "\n",
    "show_scatter(np.insert(x_train_lda, 1, y_train, axis=1), y_train)"
   ]
  },
  {
   "cell_type": "markdown",
   "metadata": {},
   "source": [
    "### 参考 ###\n",
    "- [Python機械学習プログラミング](https://book.impress.co.jp/books/1117101099)"
   ]
  },
  {
   "cell_type": "markdown",
   "metadata": {},
   "source": [
    "# 3. ランダムフォレストによる次元削減 #"
   ]
  },
  {
   "cell_type": "code",
   "execution_count": 18,
   "metadata": {},
   "outputs": [
    {
     "name": "stdout",
     "output_type": "stream",
     "text": [
      "[0.26444549 0.04959946 0.37771205 0.30824301]\n"
     ]
    }
   ],
   "source": [
    "from sklearn.ensemble import RandomForestClassifier\n",
    "rf = RandomForestClassifier(random_state=1)\n",
    "rf.fit(x_train_std, y_train)\n",
    "print(rf.feature_importances_)"
   ]
  },
  {
   "cell_type": "markdown",
   "metadata": {},
   "source": [
    "# 4. RFEによる次元削減 #\n",
    "RFE(Recursive Feature Elimination)は"
   ]
  },
  {
   "cell_type": "code",
   "execution_count": 36,
   "metadata": {},
   "outputs": [
    {
     "data": {
      "text/plain": [
       "array([4, 3, 2, 1])"
      ]
     },
     "metadata": {},
     "output_type": "display_data"
    }
   ],
   "source": [
    "from sklearn.feature_selection import RFE\n",
    "from sklearn.linear_model import LogisticRegression\n",
    "\n",
    "lr = LogisticRegression(random_state=1)\n",
    "rfe = RFE(estimator=lr, n_features_to_select=1)\n",
    "rfe.fit(x_train_std, y_train)\n",
    "display(rfe.ranking_)"
   ]
  },
  {
   "cell_type": "markdown",
   "metadata": {},
   "source": [
    "### 参考 ###\n",
    "- [scikit-learn公式ドキュメント](https://scikit-learn.org/stable/modules/generated/sklearn.feature_selection.RFE.html)\n",
    "- [[機械学習]RFEを用いた特徴量の選別](https://qiita.com/nanairoGlasses/items/d7d4c190d11ba663635d)"
   ]
  },
  {
   "cell_type": "markdown",
   "metadata": {},
   "source": [
    "# 6. 相関係数による次元削減 #\n",
    "特徴量の中には似た特徴を表すものがあります。例えば、土地の幅と面積などがそうです。幅と面積それぞれ異なる特徴量ですが、面積は幅から計算できるため似た(相関の強い)情報になります。この様に相関の強いデータがあると、データの情報に偏りが生じて精度が悪くなる原因になります。そこで、相関の強いデータは削除します。"
   ]
  },
  {
   "cell_type": "code",
   "execution_count": 27,
   "metadata": {},
   "outputs": [
    {
     "name": "stdout",
     "output_type": "stream",
     "text": [
      "[[ 1.         -0.10002333  0.88718179  0.82263976]\n",
      " [-0.10002333  1.         -0.3612997  -0.29173819]\n",
      " [ 0.88718179 -0.3612997   1.          0.96370717]\n",
      " [ 0.82263976 -0.29173819  0.96370717  1.        ]]\n"
     ]
    },
    {
     "data": {
      "text/plain": [
       "Index(['sepal length (cm)', 'sepal width (cm)', 'petal length (cm)',\n",
       "       'petal width (cm)', 'target'],\n",
       "      dtype='object')"
      ]
     },
     "metadata": {},
     "output_type": "display_data"
    }
   ],
   "source": [
    "print(np.corrcoef(x_train_std.T))\n",
    "display(iris_df.columns)"
   ]
  },
  {
   "cell_type": "markdown",
   "metadata": {},
   "source": [
    "# 7.  変数指定法 #\n",
    "変数指定法は、分析したいデータの分野に関する専門知識(ドメイン知識)を使用して特徴量を選択します。要するに専門知識を利用した経験と勘で特徴量を選別します。"
   ]
  },
  {
   "cell_type": "markdown",
   "metadata": {},
   "source": [
    "# 8. Forward Selection #\n",
    "Forward Selection用の関数はscikit-learnには用意されていないようなので、自分で作成してみました。こんな感じになるのですかね...(= =?"
   ]
  },
  {
   "cell_type": "markdown",
   "metadata": {},
   "source": [
    "# 9. Backward Selection #\n",
    "Backward Selection用の関数はscikit-learnに用意されているのかにゃ？"
   ]
  },
  {
   "cell_type": "markdown",
   "metadata": {},
   "source": [
    "# 8. 参考 #\n",
    "- [特徴量選択のまとめ](https://qiita.com/shimopino/items/5fee7504c7acf044a521)\n",
    "- [変数選択(Feature Selection)のまとめ](https://aotamasaki.hatenablog.com/entry/2018/04/18/201127#Forward-Selection)"
   ]
  },
  {
   "cell_type": "markdown",
   "metadata": {},
   "source": [
    "# 9. 関連リンク #\n",
    "- Qiitaの記事"
   ]
  },
  {
   "cell_type": "code",
   "execution_count": null,
   "metadata": {},
   "outputs": [],
   "source": []
  }
 ],
 "metadata": {
  "kernelspec": {
   "display_name": "Python 3",
   "language": "python",
   "name": "python3"
  },
  "language_info": {
   "codemirror_mode": {
    "name": "ipython",
    "version": 3
   },
   "file_extension": ".py",
   "mimetype": "text/x-python",
   "name": "python",
   "nbconvert_exporter": "python",
   "pygments_lexer": "ipython3",
   "version": "3.7.2"
  }
 },
 "nbformat": 4,
 "nbformat_minor": 4
}
